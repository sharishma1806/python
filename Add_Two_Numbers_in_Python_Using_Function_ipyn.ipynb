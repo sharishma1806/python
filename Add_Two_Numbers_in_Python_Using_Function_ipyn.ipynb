{
  "nbformat": 4,
  "nbformat_minor": 0,
  "metadata": {
    "colab": {
      "provenance": [],
      "authorship_tag": "ABX9TyPpn/cHQ5gPAJvHeMnfiL5G",
      "include_colab_link": true
    },
    "kernelspec": {
      "name": "python3",
      "display_name": "Python 3"
    },
    "language_info": {
      "name": "python"
    }
  },
  "cells": [
    {
      "cell_type": "markdown",
      "metadata": {
        "id": "view-in-github",
        "colab_type": "text"
      },
      "source": [
        "<a href=\"https://colab.research.google.com/github/sharishma1806/python/blob/main/Add_Two_Numbers_in_Python_Using_Function_ipyn.ipynb\" target=\"_parent\"><img src=\"https://colab.research.google.com/assets/colab-badge.svg\" alt=\"Open In Colab\"/></a>"
      ]
    },
    {
      "cell_type": "code",
      "execution_count": 1,
      "metadata": {
        "colab": {
          "base_uri": "https://localhost:8080/"
        },
        "id": "CgTrMW0M5xxG",
        "outputId": "f7f26687-1d57-4cb7-acff-ed28f8e724a2"
      },
      "outputs": [
        {
          "output_type": "stream",
          "name": "stdout",
          "text": [
            "Sum of 10 and 5 is 15;\n"
          ]
        }
      ],
      "source": [
        "#To define a function that take two integers\n",
        "# and return the sum of those two numbers\n",
        "def add(a,b):\n",
        "  return a+b\n",
        "\n",
        "#initializing the variables\n",
        "num1 = 10\n",
        "num2 = 5\n",
        "\n",
        "#function calling and store the result into sum_of_twonumbers\n",
        "sum_of_twonumbers = add(num1,num2)\n",
        "\n",
        "#To print the result\n",
        "print(\"Sum of {0} and {1} is {2};\" .format(num1,\n",
        "                           num2, sum_of_twonumbers))\n"
      ]
    }
  ]
}