{
  "nbformat": 4,
  "nbformat_minor": 0,
  "metadata": {
    "colab": {
      "provenance": [],
      "authorship_tag": "ABX9TyPaKncW7YFZbtAftFRJjxkN",
      "include_colab_link": true
    },
    "kernelspec": {
      "name": "python3",
      "display_name": "Python 3"
    },
    "language_info": {
      "name": "python"
    }
  },
  "cells": [
    {
      "cell_type": "markdown",
      "metadata": {
        "id": "view-in-github",
        "colab_type": "text"
      },
      "source": [
        "<a href=\"https://colab.research.google.com/github/sharishma1806/python/blob/main/Program_to_Check_Armstrong_Number_.ipynb\" target=\"_parent\"><img src=\"https://colab.research.google.com/assets/colab-badge.svg\" alt=\"Open In Colab\"/></a>"
      ]
    },
    {
      "cell_type": "code",
      "source": [
        "def power(x, y):\n",
        "\n",
        "    if y == 0:\n",
        "        return 1\n",
        "    if y % 2 == 0:\n",
        "        return power(x, y // 2) * power(x, y // 2)\n",
        "\n",
        "    return x * power(x, y // 2) * power(x, y // 2)\n",
        "\n",
        "# Function to calculate order of the number\n",
        "def order(x):\n",
        "\n",
        "    # Variable to store of the number\n",
        "    n = 0\n",
        "    while (x != 0):\n",
        "        n = n + 1\n",
        "        x = x // 10\n",
        "\n",
        "    return n\n",
        "\n",
        "# Function to check whether the given\n",
        "# number is Armstrong number or not\n",
        "def isArmstrong(x):\n",
        "\n",
        "    n = order(x)\n",
        "    temp = x\n",
        "    sum1 = 0\n",
        "\n",
        "    while (temp != 0):\n",
        "        r = temp % 10\n",
        "        sum1 = sum1 + power(r, n)\n",
        "        temp = temp // 10\n",
        "\n",
        "    # If condition satisfies\n",
        "    return (sum1 == x)\n",
        "\n",
        "# Driver code\n",
        "x = 153\n",
        "print(isArmstrong(x))\n",
        "\n",
        "x = 1253\n",
        "print(isArmstrong(x))"
      ],
      "metadata": {
        "colab": {
          "base_uri": "https://localhost:8080/"
        },
        "id": "VapxMxhn16bc",
        "outputId": "f398a3d3-e094-4989-b258-a48997eb14f8"
      },
      "execution_count": 2,
      "outputs": [
        {
          "output_type": "stream",
          "name": "stdout",
          "text": [
            "True\n",
            "False\n"
          ]
        }
      ]
    },
    {
      "cell_type": "code",
      "source": [
        "n = 153  # or n=int(input()) -> taking input from user\n",
        "s = n  # assigning input value to the s variable\n",
        "b = len(str(n))\n",
        "sum1 = 0\n",
        "while n != 0:\n",
        "    r = n % 10\n",
        "    sum1 = sum1+(r**b)\n",
        "    n = n//10\n",
        "if s == sum1:\n",
        "    print(\"The given number\", s, \"is armstrong number\")\n",
        "else:\n",
        "    print(\"The given number\", s, \"is not armstrong number\")"
      ],
      "metadata": {
        "colab": {
          "base_uri": "https://localhost:8080/"
        },
        "id": "lKAKAw_71-1x",
        "outputId": "bbe3fa59-5650-4b64-b269-ac214f79e5c0"
      },
      "execution_count": 3,
      "outputs": [
        {
          "output_type": "stream",
          "name": "stdout",
          "text": [
            "The given number 153 is armstrong number\n"
          ]
        }
      ]
    }
  ]
}