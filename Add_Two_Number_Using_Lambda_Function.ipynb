{
  "nbformat": 4,
  "nbformat_minor": 0,
  "metadata": {
    "colab": {
      "provenance": [],
      "authorship_tag": "ABX9TyNs235SXmJAhZupLUkR9Ulg",
      "include_colab_link": true
    },
    "kernelspec": {
      "name": "python3",
      "display_name": "Python 3"
    },
    "language_info": {
      "name": "python"
    }
  },
  "cells": [
    {
      "cell_type": "markdown",
      "metadata": {
        "id": "view-in-github",
        "colab_type": "text"
      },
      "source": [
        "<a href=\"https://colab.research.google.com/github/sharishma1806/python/blob/main/Add_Two_Number_Using_Lambda_Function.ipynb\" target=\"_parent\"><img src=\"https://colab.research.google.com/assets/colab-badge.svg\" alt=\"Open In Colab\"/></a>"
      ]
    },
    {
      "cell_type": "code",
      "execution_count": 1,
      "metadata": {
        "colab": {
          "base_uri": "https://localhost:8080/"
        },
        "id": "OrGWm0aqEReI",
        "outputId": "c4f1660f-a060-4dd5-c929-d58f39bc329f"
      },
      "outputs": [
        {
          "output_type": "stream",
          "name": "stdout",
          "text": [
            "The sum of 1 and 2 is 3\n"
          ]
        }
      ],
      "source": [
        "# Define a lambda function to add two numbers\n",
        "add_numbers = lambda x, y: x + y\n",
        "\n",
        "# Take input from the user\n",
        "num1 = 1\n",
        "num2 = 2\n",
        "\n",
        "# Call the lambda function to add the two numbers\n",
        "result = add_numbers(num1, num2)\n",
        "\n",
        "# Print the result\n",
        "print(\"The sum of\", num1, \"and\", num2, \"is\", result)\n"
      ]
    }
  ]
}